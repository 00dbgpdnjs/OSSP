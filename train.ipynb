{
 "cells": [
  {
   "cell_type": "code",
   "execution_count": 1,
   "metadata": {},
   "outputs": [],
   "source": [
    "import numpy as np\n",
    "import os\n",
    "\n",
    "os.environ['CUDA_VISIBLE_DEVICES'] = '1'\n",
    "os.environ['TF_FORCE_GPU_ALLOW_GROWTH'] = 'true'"
   ]
  },
  {
   "cell_type": "code",
   "execution_count": 2,
   "metadata": {},
   "outputs": [
    {
     "data": {
      "text/plain": [
       "(4339, 30, 100)"
      ]
     },
     "execution_count": 2,
     "metadata": {},
     "output_type": "execute_result"
    }
   ],
   "source": [
    "# 액션 정의\n",
    "actions = [\n",
    "    'skip', 'scroll', 'back', 'search', 'home'\n",
    "]\n",
    "# actions = [\n",
    "#     # 'skip', \n",
    "#     'scroll', \n",
    "#     # 'back', \n",
    "#     # 'search', \n",
    "#     'home', \n",
    "#     # 'space', \n",
    "#     # 'up', \n",
    "#     'down', \n",
    "#     'next', \n",
    "#     'max'\n",
    "# ]\n",
    "# actions = [\n",
    "#     'come', \n",
    "#     'away', \n",
    "#     'spin'\n",
    "# ]\n",
    "\n",
    "# 데이터 로드해서 하나로 합침\n",
    "data = np.concatenate([\n",
    "    np.load('dataset/seq_back_1673979408.npy'),\n",
    "    np.load('dataset/seq_home_1673979408.npy'),\n",
    "    np.load('dataset/seq_scroll_1673979408.npy'),\n",
    "    np.load('dataset/seq_search_1673979408.npy'),\n",
    "    np.load('dataset/seq_skip_1673979408.npy')\n",
    "], axis=0)\n",
    "# data = np.concatenate([\n",
    "#     # np.load('dataset/seq_come_1673977897.npy'),\n",
    "#     np.load('dataset/seq_down_1673978212.npy'),\n",
    "#     np.load('dataset/seq_home_1673978212.npy'),\n",
    "#     np.load('dataset/seq_max_1673978212.npy'),\n",
    "#     np.load('dataset/seq_next_1673978212.npy'),\n",
    "#     np.load('dataset/seq_scroll_1673978212.npy'),\n",
    "#     # np.load('dataset/seq_search_1673978212.npy'),\n",
    "#     # np.load('dataset/seq_skip_1673978212.npy'),\n",
    "#     # np.load('dataset/seq_space_1673978212.npy'),\n",
    "#     # np.load('dataset/seq_up_1673978212.npy')\n",
    "# ], axis=0)\n",
    "\n",
    "data.shape"
   ]
  },
  {
   "cell_type": "code",
   "execution_count": 3,
   "metadata": {},
   "outputs": [
    {
     "name": "stdout",
     "output_type": "stream",
     "text": [
      "(4339, 30, 99)\n",
      "(4339,)\n"
     ]
    }
   ],
   "source": [
    "x_data = data[:, :, :-1] # 데이터셋은 라벨 값 제외\n",
    "labels = data[:, 0, -1]\n",
    "\n",
    "print(x_data.shape)\n",
    "print(labels.shape)"
   ]
  },
  {
   "cell_type": "code",
   "execution_count": 4,
   "metadata": {},
   "outputs": [
    {
     "ename": "IndexError",
     "evalue": "index 7 is out of bounds for axis 1 with size 5",
     "output_type": "error",
     "traceback": [
      "\u001b[1;31m---------------------------------------------------------------------------\u001b[0m",
      "\u001b[1;31mIndexError\u001b[0m                                Traceback (most recent call last)",
      "\u001b[1;32mc:\\Users\\yuhye\\OneDrive\\바탕 화면\\OSSP\\train.ipynb Cell 4\u001b[0m in \u001b[0;36m<cell line: 4>\u001b[1;34m()\u001b[0m\n\u001b[0;32m      <a href='vscode-notebook-cell:/c%3A/Users/yuhye/OneDrive/%EB%B0%94%ED%83%95%20%ED%99%94%EB%A9%B4/OSSP/train.ipynb#W3sZmlsZQ%3D%3D?line=0'>1</a>\u001b[0m \u001b[39m# 원핫인코딩: come이 0이면 1, 0, 0 으로\u001b[39;00m\n\u001b[0;32m      <a href='vscode-notebook-cell:/c%3A/Users/yuhye/OneDrive/%EB%B0%94%ED%83%95%20%ED%99%94%EB%A9%B4/OSSP/train.ipynb#W3sZmlsZQ%3D%3D?line=1'>2</a>\u001b[0m \u001b[39mfrom\u001b[39;00m \u001b[39mtensorflow\u001b[39;00m\u001b[39m.\u001b[39;00m\u001b[39mkeras\u001b[39;00m\u001b[39m.\u001b[39;00m\u001b[39mutils\u001b[39;00m \u001b[39mimport\u001b[39;00m to_categorical\n\u001b[1;32m----> <a href='vscode-notebook-cell:/c%3A/Users/yuhye/OneDrive/%EB%B0%94%ED%83%95%20%ED%99%94%EB%A9%B4/OSSP/train.ipynb#W3sZmlsZQ%3D%3D?line=3'>4</a>\u001b[0m y_data \u001b[39m=\u001b[39m to_categorical(labels, num_classes\u001b[39m=\u001b[39;49m\u001b[39mlen\u001b[39;49m(actions))\n\u001b[0;32m      <a href='vscode-notebook-cell:/c%3A/Users/yuhye/OneDrive/%EB%B0%94%ED%83%95%20%ED%99%94%EB%A9%B4/OSSP/train.ipynb#W3sZmlsZQ%3D%3D?line=4'>5</a>\u001b[0m y_data\u001b[39m.\u001b[39mshape\n",
      "File \u001b[1;32mc:\\Users\\yuhye\\AppData\\Local\\Programs\\Python\\Python310\\lib\\site-packages\\keras\\utils\\np_utils.py:71\u001b[0m, in \u001b[0;36mto_categorical\u001b[1;34m(y, num_classes, dtype)\u001b[0m\n\u001b[0;32m     69\u001b[0m n \u001b[39m=\u001b[39m y\u001b[39m.\u001b[39mshape[\u001b[39m0\u001b[39m]\n\u001b[0;32m     70\u001b[0m categorical \u001b[39m=\u001b[39m np\u001b[39m.\u001b[39mzeros((n, num_classes), dtype\u001b[39m=\u001b[39mdtype)\n\u001b[1;32m---> 71\u001b[0m categorical[np\u001b[39m.\u001b[39marange(n), y] \u001b[39m=\u001b[39m \u001b[39m1\u001b[39m\n\u001b[0;32m     72\u001b[0m output_shape \u001b[39m=\u001b[39m input_shape \u001b[39m+\u001b[39m (num_classes,)\n\u001b[0;32m     73\u001b[0m categorical \u001b[39m=\u001b[39m np\u001b[39m.\u001b[39mreshape(categorical, output_shape)\n",
      "\u001b[1;31mIndexError\u001b[0m: index 7 is out of bounds for axis 1 with size 5"
     ]
    }
   ],
   "source": [
    "# 원핫인코딩: come이 0이면 1, 0, 0 으로\n",
    "from tensorflow.keras.utils import to_categorical\n",
    "\n",
    "y_data = to_categorical(labels, num_classes=len(actions))\n",
    "y_data.shape"
   ]
  },
  {
   "cell_type": "code",
   "execution_count": null,
   "metadata": {},
   "outputs": [
    {
     "name": "stdout",
     "output_type": "stream",
     "text": [
      "(7748, 30, 99) (7748, 10)\n",
      "(861, 30, 99) (861, 10)\n"
     ]
    }
   ],
   "source": [
    "from sklearn.model_selection import train_test_split\n",
    "\n",
    "x_data = x_data.astype(np.float32)\n",
    "y_data = y_data.astype(np.float32)\n",
    "\n",
    "x_train, x_val, y_train, y_val = train_test_split(x_data, y_data, test_size=0.1, random_state=2021)\n",
    "\n",
    "print(x_train.shape, y_train.shape)\n",
    "print(x_val.shape, y_val.shape)"
   ]
  },
  {
   "cell_type": "code",
   "execution_count": null,
   "metadata": {},
   "outputs": [
    {
     "name": "stdout",
     "output_type": "stream",
     "text": [
      "Model: \"sequential_3\"\n",
      "_________________________________________________________________\n",
      " Layer (type)                Output Shape              Param #   \n",
      "=================================================================\n",
      " lstm_3 (LSTM)               (None, 64)                41984     \n",
      "                                                                 \n",
      " dense_6 (Dense)             (None, 32)                2080      \n",
      "                                                                 \n",
      " dense_7 (Dense)             (None, 10)                330       \n",
      "                                                                 \n",
      "=================================================================\n",
      "Total params: 44,394\n",
      "Trainable params: 44,394\n",
      "Non-trainable params: 0\n",
      "_________________________________________________________________\n"
     ]
    }
   ],
   "source": [
    "#모델 정의\n",
    "\n",
    "from tensorflow.keras.models import Sequential\n",
    "from tensorflow.keras.layers import LSTM, Dense\n",
    "\n",
    "model = Sequential([\n",
    "    LSTM(64, activation='relu', input_shape=x_train.shape[1:3]), # 1~2 : 윈도우 크기인 30, 랜드마크 등인  99\n",
    "    Dense(32, activation='relu'),\n",
    "    Dense(len(actions), activation='softmax')\n",
    "])\n",
    "\n",
    "model.compile(optimizer='adam', loss='categorical_crossentropy', metrics=['acc'])\n",
    "model.summary()"
   ]
  },
  {
   "cell_type": "code",
   "execution_count": null,
   "metadata": {
    "scrolled": true
   },
   "outputs": [
    {
     "name": "stdout",
     "output_type": "stream",
     "text": [
      "Epoch 1/200\n",
      "242/243 [============================>.] - ETA: 0s - loss: 67.9226 - acc: 0.2243\n",
      "Epoch 1: val_acc improved from -inf to 0.38211, saving model to models\\model.h5\n",
      "243/243 [==============================] - 3s 10ms/step - loss: 67.8954 - acc: 0.2244 - val_loss: 19.4257 - val_acc: 0.3821 - lr: 0.0010\n",
      "Epoch 2/200\n",
      "240/243 [============================>.] - ETA: 0s - loss: 81.7480 - acc: 0.3410\n",
      "Epoch 2: val_acc did not improve from 0.38211\n",
      "243/243 [==============================] - 2s 9ms/step - loss: 81.5703 - acc: 0.3398 - val_loss: 37.2242 - val_acc: 0.3159 - lr: 0.0010\n",
      "Epoch 3/200\n",
      "241/243 [============================>.] - ETA: 0s - loss: 76.7740 - acc: 0.2081\n",
      "Epoch 3: val_acc did not improve from 0.38211\n",
      "243/243 [==============================] - 2s 9ms/step - loss: 76.5037 - acc: 0.2084 - val_loss: 16.5377 - val_acc: 0.2427 - lr: 0.0010\n",
      "Epoch 4/200\n",
      "237/243 [============================>.] - ETA: 0s - loss: 10.3332 - acc: 0.2244\n",
      "Epoch 4: val_acc did not improve from 0.38211\n",
      "243/243 [==============================] - 2s 9ms/step - loss: 10.2585 - acc: 0.2244 - val_loss: 9.0790 - val_acc: 0.2160 - lr: 0.0010\n",
      "Epoch 5/200\n",
      "238/243 [============================>.] - ETA: 0s - loss: 6.9104 - acc: 0.1765\n",
      "Epoch 5: val_acc did not improve from 0.38211\n",
      "243/243 [==============================] - 2s 9ms/step - loss: 6.9264 - acc: 0.1754 - val_loss: 6.8285 - val_acc: 0.1963 - lr: 0.0010\n",
      "Epoch 6/200\n",
      "240/243 [============================>.] - ETA: 0s - loss: 3.9287 - acc: 0.1359\n",
      "Epoch 6: val_acc did not improve from 0.38211\n",
      "243/243 [==============================] - 2s 9ms/step - loss: 3.9166 - acc: 0.1367 - val_loss: 3.0813 - val_acc: 0.1823 - lr: 0.0010\n",
      "Epoch 7/200\n",
      "241/243 [============================>.] - ETA: 0s - loss: 3.3895 - acc: 0.2076\n",
      "Epoch 7: val_acc did not improve from 0.38211\n",
      "243/243 [==============================] - 3s 11ms/step - loss: 3.4066 - acc: 0.2077 - val_loss: 4.2432 - val_acc: 0.1998 - lr: 0.0010\n",
      "Epoch 8/200\n",
      "239/243 [============================>.] - ETA: 0s - loss: 3.5631 - acc: 0.2214\n",
      "Epoch 8: val_acc did not improve from 0.38211\n",
      "243/243 [==============================] - 3s 12ms/step - loss: 3.5543 - acc: 0.2207 - val_loss: 3.1342 - val_acc: 0.2044 - lr: 0.0010\n",
      "Epoch 9/200\n",
      "240/243 [============================>.] - ETA: 0s - loss: 2.6675 - acc: 0.2219\n",
      "Epoch 9: val_acc did not improve from 0.38211\n",
      "243/243 [==============================] - 3s 13ms/step - loss: 2.6631 - acc: 0.2215 - val_loss: 2.6352 - val_acc: 0.1916 - lr: 0.0010\n",
      "Epoch 10/200\n",
      "242/243 [============================>.] - ETA: 0s - loss: 4.3456 - acc: 0.2151\n",
      "Epoch 10: val_acc did not improve from 0.38211\n",
      "243/243 [==============================] - 3s 13ms/step - loss: 4.3456 - acc: 0.2150 - val_loss: 2.6507 - val_acc: 0.1789 - lr: 0.0010\n",
      "Epoch 11/200\n",
      "239/243 [============================>.] - ETA: 0s - loss: 2.2695 - acc: 0.1936\n",
      "Epoch 11: val_acc did not improve from 0.38211\n",
      "243/243 [==============================] - 3s 12ms/step - loss: 2.2766 - acc: 0.1940 - val_loss: 2.2291 - val_acc: 0.1800 - lr: 0.0010\n",
      "Epoch 12/200\n",
      "241/243 [============================>.] - ETA: 0s - loss: 2.2257 - acc: 0.1924\n",
      "Epoch 12: val_acc did not improve from 0.38211\n",
      "243/243 [==============================] - 3s 12ms/step - loss: 2.2252 - acc: 0.1928 - val_loss: 2.2120 - val_acc: 0.1789 - lr: 0.0010\n",
      "Epoch 13/200\n",
      "243/243 [==============================] - ETA: 0s - loss: 2.2043 - acc: 0.1935\n",
      "Epoch 13: val_acc did not improve from 0.38211\n",
      "243/243 [==============================] - 3s 13ms/step - loss: 2.2043 - acc: 0.1935 - val_loss: 2.1990 - val_acc: 0.1800 - lr: 0.0010\n",
      "Epoch 14/200\n",
      "242/243 [============================>.] - ETA: 0s - loss: 2.1933 - acc: 0.1934\n",
      "Epoch 14: val_acc did not improve from 0.38211\n",
      "243/243 [==============================] - 3s 13ms/step - loss: 2.1932 - acc: 0.1936 - val_loss: 2.1967 - val_acc: 0.1800 - lr: 0.0010\n",
      "Epoch 15/200\n",
      "241/243 [============================>.] - ETA: 0s - loss: 2.2791 - acc: 0.1929\n",
      "Epoch 15: val_acc did not improve from 0.38211\n",
      "243/243 [==============================] - 3s 13ms/step - loss: 2.2783 - acc: 0.1933 - val_loss: 2.2039 - val_acc: 0.1777 - lr: 0.0010\n",
      "Epoch 16/200\n",
      "241/243 [============================>.] - ETA: 0s - loss: 2.5819 - acc: 0.1902\n",
      "Epoch 16: val_acc did not improve from 0.38211\n",
      "243/243 [==============================] - 3s 13ms/step - loss: 2.5799 - acc: 0.1904 - val_loss: 2.1818 - val_acc: 0.1789 - lr: 0.0010\n",
      "Epoch 17/200\n",
      "240/243 [============================>.] - ETA: 0s - loss: 2.1734 - acc: 0.1934\n",
      "Epoch 17: val_acc did not improve from 0.38211\n",
      "243/243 [==============================] - 3s 13ms/step - loss: 2.1732 - acc: 0.1936 - val_loss: 2.1803 - val_acc: 0.1800 - lr: 0.0010\n",
      "Epoch 18/200\n",
      "240/243 [============================>.] - ETA: 0s - loss: 2.1730 - acc: 0.1932\n",
      "Epoch 18: val_acc did not improve from 0.38211\n",
      "243/243 [==============================] - 3s 13ms/step - loss: 2.1727 - acc: 0.1936 - val_loss: 2.1806 - val_acc: 0.1800 - lr: 0.0010\n",
      "Epoch 19/200\n",
      "240/243 [============================>.] - ETA: 0s - loss: 2.1720 - acc: 0.1943\n",
      "Epoch 19: val_acc did not improve from 0.38211\n",
      "243/243 [==============================] - 3s 13ms/step - loss: 2.1725 - acc: 0.1935 - val_loss: 2.1803 - val_acc: 0.1800 - lr: 0.0010\n",
      "Epoch 20/200\n",
      "240/243 [============================>.] - ETA: 0s - loss: 2.1718 - acc: 0.1937\n",
      "Epoch 20: val_acc did not improve from 0.38211\n",
      "243/243 [==============================] - 4s 16ms/step - loss: 2.1720 - acc: 0.1936 - val_loss: 2.1800 - val_acc: 0.1800 - lr: 0.0010\n",
      "Epoch 21/200\n",
      "240/243 [============================>.] - ETA: 0s - loss: 2.1718 - acc: 0.1928\n",
      "Epoch 21: val_acc did not improve from 0.38211\n",
      "243/243 [==============================] - 4s 15ms/step - loss: 2.1715 - acc: 0.1933 - val_loss: 2.1796 - val_acc: 0.1800 - lr: 0.0010\n",
      "Epoch 22/200\n",
      "241/243 [============================>.] - ETA: 0s - loss: 2.1712 - acc: 0.1936\n",
      "Epoch 22: val_acc did not improve from 0.38211\n",
      "243/243 [==============================] - 4s 16ms/step - loss: 2.1712 - acc: 0.1936 - val_loss: 2.1792 - val_acc: 0.1800 - lr: 0.0010\n",
      "Epoch 23/200\n",
      "240/243 [============================>.] - ETA: 0s - loss: 2.1709 - acc: 0.1935\n",
      "Epoch 23: val_acc did not improve from 0.38211\n",
      "243/243 [==============================] - 4s 16ms/step - loss: 2.1708 - acc: 0.1936 - val_loss: 2.1789 - val_acc: 0.1800 - lr: 0.0010\n",
      "Epoch 24/200\n",
      "243/243 [==============================] - ETA: 0s - loss: 2.1707 - acc: 0.1936\n",
      "Epoch 24: val_acc did not improve from 0.38211\n",
      "243/243 [==============================] - 4s 15ms/step - loss: 2.1707 - acc: 0.1936 - val_loss: 2.1788 - val_acc: 0.1800 - lr: 0.0010\n",
      "Epoch 25/200\n",
      "242/243 [============================>.] - ETA: 0s - loss: 2.1704 - acc: 0.1936\n",
      "Epoch 25: val_acc did not improve from 0.38211\n",
      "243/243 [==============================] - 4s 17ms/step - loss: 2.1704 - acc: 0.1936 - val_loss: 2.1786 - val_acc: 0.1800 - lr: 0.0010\n",
      "Epoch 26/200\n",
      "240/243 [============================>.] - ETA: 0s - loss: 2.1705 - acc: 0.1931\n",
      "Epoch 26: val_acc did not improve from 0.38211\n",
      "243/243 [==============================] - 3s 13ms/step - loss: 2.1703 - acc: 0.1935 - val_loss: 2.1772 - val_acc: 0.1812 - lr: 0.0010\n",
      "Epoch 27/200\n",
      "240/243 [============================>.] - ETA: 0s - loss: 2.1705 - acc: 0.1931\n",
      "Epoch 27: val_acc did not improve from 0.38211\n",
      "243/243 [==============================] - 3s 14ms/step - loss: 2.1702 - acc: 0.1935 - val_loss: 2.1772 - val_acc: 0.1800 - lr: 0.0010\n",
      "Epoch 28/200\n",
      "240/243 [============================>.] - ETA: 0s - loss: 2.1690 - acc: 0.1945\n",
      "Epoch 28: val_acc did not improve from 0.38211\n",
      "243/243 [==============================] - 3s 13ms/step - loss: 2.1695 - acc: 0.1939 - val_loss: 2.1755 - val_acc: 0.1812 - lr: 0.0010\n",
      "Epoch 29/200\n",
      "240/243 [============================>.] - ETA: 0s - loss: 2.1701 - acc: 0.1930\n",
      "Epoch 29: val_acc did not improve from 0.38211\n",
      "243/243 [==============================] - 4s 16ms/step - loss: 2.1698 - acc: 0.1933 - val_loss: 2.1756 - val_acc: 0.1812 - lr: 0.0010\n",
      "Epoch 30/200\n",
      "241/243 [============================>.] - ETA: 0s - loss: 2.1692 - acc: 0.1935\n",
      "Epoch 30: val_acc did not improve from 0.38211\n",
      "243/243 [==============================] - 3s 12ms/step - loss: 2.1690 - acc: 0.1937 - val_loss: 2.1777 - val_acc: 0.1800 - lr: 0.0010\n",
      "Epoch 31/200\n",
      "243/243 [==============================] - ETA: 0s - loss: 2.1698 - acc: 0.1935\n",
      "Epoch 31: val_acc did not improve from 0.38211\n",
      "243/243 [==============================] - 3s 12ms/step - loss: 2.1698 - acc: 0.1935 - val_loss: 2.1801 - val_acc: 0.1789 - lr: 0.0010\n",
      "Epoch 32/200\n",
      "228/243 [===========================>..] - ETA: 0s - loss: 2.1692 - acc: 0.1938"
     ]
    }
   ],
   "source": [
    "# 학습시키기\n",
    "\n",
    "from tensorflow.keras.callbacks import ModelCheckpoint, ReduceLROnPlateau\n",
    "\n",
    "history = model.fit(\n",
    "    x_train,\n",
    "    y_train,\n",
    "    validation_data=(x_val, y_val),\n",
    "    epochs=200,\n",
    "    callbacks=[\n",
    "        ModelCheckpoint('models/model.h5', monitor='val_acc', verbose=1, save_best_only=True, mode='auto'),\n",
    "        ReduceLROnPlateau(monitor='val_acc', factor=0.5, patience=50, verbose=1, mode='auto')\n",
    "    ]\n",
    ")"
   ]
  },
  {
   "cell_type": "code",
   "execution_count": null,
   "metadata": {},
   "outputs": [
    {
     "data": {
      "image/png": "[encoded data removed]",
      "text/plain": [
       "<Figure size 1152x720 with 2 Axes>"
      ]
     },
     "metadata": {
      "needs_background": "light"
     },
     "output_type": "display_data"
    }
   ],
   "source": [
    "import matplotlib.pyplot as plt\n",
    "\n",
    "fig, loss_ax = plt.subplots(figsize=(16, 10))\n",
    "acc_ax = loss_ax.twinx()\n",
    "\n",
    "loss_ax.plot(history.history['loss'], 'y', label='train loss')\n",
    "loss_ax.plot(history.history['val_loss'], 'r', label='val loss')\n",
    "loss_ax.set_xlabel('epoch')\n",
    "loss_ax.set_ylabel('loss')\n",
    "loss_ax.legend(loc='upper left')\n",
    "\n",
    "acc_ax.plot(history.history['acc'], 'b', label='train acc')\n",
    "acc_ax.plot(history.history['val_acc'], 'g', label='val acc')\n",
    "acc_ax.set_ylabel('accuracy')\n",
    "acc_ax.legend(loc='upper left')\n",
    "\n",
    "plt.show()"
   ]
  },
  {
   "cell_type": "code",
   "execution_count": null,
   "metadata": {},
   "outputs": [
    {
     "name": "stdout",
     "output_type": "stream",
     "text": [
      "9/9 [==============================] - 0s 5ms/step\n"
     ]
    },
    {
     "data": {
      "text/plain": [
       "array([[[171,   0],\n",
       "        [  0,  91]],\n",
       "\n",
       "       [[178,   0],\n",
       "        [  0,  84]],\n",
       "\n",
       "       [[175,   0],\n",
       "        [  0,  87]]], dtype=int64)"
      ]
     },
     "execution_count": 39,
     "metadata": {},
     "output_type": "execute_result"
    }
   ],
   "source": [
    "from sklearn.metrics import multilabel_confusion_matrix\n",
    "from tensorflow.keras.models import load_model\n",
    "\n",
    "model = load_model('models/model.h5')\n",
    "\n",
    "y_pred = model.predict(x_val)\n",
    "\n",
    "multilabel_confusion_matrix(np.argmax(y_val, axis=1), np.argmax(y_pred, axis=1))"
   ]
  },
  {
   "cell_type": "code",
   "execution_count": null,
   "metadata": {},
   "outputs": [],
   "source": [
    "\n",
    "\n"
   ]
  }
 ],
 "metadata": {
  "kernelspec": {
   "display_name": "Python 3",
   "language": "python",
   "name": "python3"
  },
  "language_info": {
   "codemirror_mode": {
    "name": "ipython",
    "version": 3
   },
   "file_extension": ".py",
   "mimetype": "text/x-python",
   "name": "python",
   "nbconvert_exporter": "python",
   "pygments_lexer": "ipython3",
   "version": "3.10.5"
  },
  "vscode": {
   "interpreter": {
    "hash": "bad101585e069c7d57ec95c772e885b667b5de9562dc003de7239df03a3dfd15"
   }
  }
 },
 "nbformat": 4,
 "nbformat_minor": 4
}
